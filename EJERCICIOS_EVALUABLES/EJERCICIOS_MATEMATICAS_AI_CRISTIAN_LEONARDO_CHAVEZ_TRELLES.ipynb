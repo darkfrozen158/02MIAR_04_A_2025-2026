{
  "cells": [
    {
      "cell_type": "markdown",
      "metadata": {
        "id": "view-in-github",
        "colab_type": "text"
      },
      "source": [
        "<a href=\"https://colab.research.google.com/github/darkfrozen158/02MIAR_04_A_2025-2026/blob/main/EJERCICIOS_EVALUABLES/EJERCICIOS_MATEMATICAS_AI_CRISTIAN_LEONARDO_CHAVEZ_TRELLES.ipynb\" target=\"_parent\"><img src=\"https://colab.research.google.com/assets/colab-badge.svg\" alt=\"Open In Colab\"/></a>"
      ]
    },
    {
      "cell_type": "markdown",
      "id": "edc6b1a1-645f-476b-a144-b0c3797e2c8c",
      "metadata": {
        "id": "edc6b1a1-645f-476b-a144-b0c3797e2c8c"
      },
      "source": [
        "***02MIAR-Matematicas para la inteligencia artificial***"
      ]
    },
    {
      "cell_type": "markdown",
      "source": [
        "**NOMBRES Y APELLIDOS:** CRISTIAN LEONARDO CHAVEZ TRELLES"
      ],
      "metadata": {
        "id": "eOz3ouG7wJcc"
      },
      "id": "eOz3ouG7wJcc"
    },
    {
      "cell_type": "markdown",
      "source": [
        "**Repositorio GITHUB:** https://github.com/darkfrozen158/02MIAR_04_A_2025-2026"
      ],
      "metadata": {
        "id": "zStoC52pwtc3"
      },
      "id": "zStoC52pwtc3"
    },
    {
      "cell_type": "markdown",
      "source": [
        "**INTRODUCCIÓN DEL PROBLEMA 1:**\n",
        "Tal y como ya hemos visto en clase, la variedad de herramientas proporcionadas por el\n",
        "algebra lineal son cruciales para desarrollar y fundamentar las bases de una variedad de\n",
        "tecnicas relacionadas con el aprendizaje automatico. Con ella, podemos describir el proceso\n",
        "de propagacion hacia adelante en una red neuronal, identificar mınimos locales en funciones\n",
        "multivariables (crucial para el proceso de retropropagacion) o la descripcion y empleo de\n",
        "metodos de reduccion de la dimensionalidad, como el analisis de componentes principales\n",
        "(PCA), entre muchas otras aplicaciones.\n",
        "\n",
        "Cuando trabajamos en la práctica dentro de este ámbito, la cantidad de datos que manejamos\n",
        "puede ser muy grande, por lo que es especialmente importante emplear algoritmos eficientes\n",
        "y optimizados para reducir el coste computacional en la medida de lo posible. Por todo ello,\n",
        "el objetivo de este ejercicio es el de ilustrar las diferentes alternativas que pueden existir\n",
        "para realizar un proceso relacionado con el álgebra lineal y el impacto que puede tener cada\n",
        "variante en términos del coste computacional del mismo. En este caso en particular, y a modo\n",
        "de ilustración, nos centraremos en el cálculo del determinante de una matriz.\n",
        "\n",
        "\n"
      ],
      "metadata": {
        "id": "ImDHt2tYwOz3"
      },
      "id": "ImDHt2tYwOz3"
    },
    {
      "cell_type": "code",
      "execution_count": 2,
      "id": "3b5332b7-9fce-4f16-9252-b3797dd3b3f4",
      "metadata": {
        "id": "3b5332b7-9fce-4f16-9252-b3797dd3b3f4"
      },
      "outputs": [],
      "source": [
        "# librerias a utilizar para resolver los problemas:\n",
        "import pandas as pd\n",
        "import numpy as np\n",
        "import math"
      ]
    },
    {
      "cell_type": "markdown",
      "source": [
        "***a) [1 punto] Implementa una función, determinante recursivo, que obtenga el determinante de una matriz cuadrada utilizando la definición recursiva de Laplace.***\n"
      ],
      "metadata": {
        "id": "PqHiBm2uxSz9"
      },
      "id": "PqHiBm2uxSz9"
    },
    {
      "cell_type": "code",
      "execution_count": 3,
      "id": "a110f967-49b7-4a0d-b0db-d9ce423eacc7",
      "metadata": {
        "id": "a110f967-49b7-4a0d-b0db-d9ce423eacc7"
      },
      "outputs": [],
      "source": [
        "def determinante_recursivo(matriz):\n",
        "    n = len(matriz)\n",
        "    # Caso base: matriz 1x1\n",
        "    if n == 1:\n",
        "        return matriz[0][0]\n",
        "    # Caso base: matriz 2x2 (opcional, para eficiencia)\n",
        "    if n == 2:\n",
        "        return matriz[0][0] * matriz[1][1] - matriz[0][1] * matriz[1][0]\n",
        "    det = 0.0\n",
        "    # Iteramos sobre la primera fila para la expansión por cofactores\n",
        "    for j in range(n):\n",
        "        # Calculamos el cofactor (-1)^(i+j) * det(M_ij)\n",
        "        signo = (-1) ** (0 + j)  # Fila 0, columna j\n",
        "        submatriz = []\n",
        "\n",
        "        # Construimos la submatriz eliminando la fila 0 y la columna j\n",
        "        for i in range(1, n):  # Saltamos la fila 0\n",
        "            fila = []\n",
        "            for k in range(n):\n",
        "                if k != j:\n",
        "                    fila.append(matriz[i][k])\n",
        "            submatriz.append(fila)\n",
        "        # Llamada recursiva para el determinante de la submatriz\n",
        "        det += signo * matriz[0][j] * determinante_recursivo(submatriz)\n",
        "    return det"
      ]
    },
    {
      "cell_type": "markdown",
      "source": [
        "**APLICAMOS EL CODIGO DISEÑADO:**"
      ],
      "metadata": {
        "id": "V7zaNPt-y3Xl"
      },
      "id": "V7zaNPt-y3Xl"
    },
    {
      "cell_type": "code",
      "execution_count": 4,
      "id": "4e207a13-19c5-4411-a972-8541db7c71f1",
      "metadata": {
        "colab": {
          "base_uri": "https://localhost:8080/"
        },
        "id": "4e207a13-19c5-4411-a972-8541db7c71f1",
        "outputId": "70ee9300-c33d-40ef-9518-31a095b9b7d5"
      },
      "outputs": [
        {
          "output_type": "stream",
          "name": "stdout",
          "text": [
            "Determinante de matriz(3x3): 6.0\n",
            "Determinante de matriz(2x2): -2\n",
            "Determinante de matriz(1x1): 3\n"
          ]
        }
      ],
      "source": [
        "if __name__ == \"__main__\":\n",
        "    # Matriz 3x3 (determinante = 6.0)\n",
        "    matriz = [\n",
        "        [1, 3, 3],\n",
        "        [4, 5, 6],\n",
        "        [7, 8, 9]\n",
        "    ]\n",
        "    print(\"Determinante de matriz(3x3):\", determinante_recursivo(matriz))  # Debería ser 0\n",
        "\n",
        "    # Matriz 2x2 (determinante = -2)\n",
        "    B = [\n",
        "        [1, 2],\n",
        "        [3, 4]\n",
        "    ]\n",
        "    print(\"Determinante de matriz(2x2):\", determinante_recursivo(B))  # Debería ser -2\n",
        "\n",
        "    # Matriz 1x1 (determinante = 3)\n",
        "    C = [[3, 2]]\n",
        "    print(\"Determinante de matriz(1x1):\", determinante_recursivo(C))"
      ]
    },
    {
      "cell_type": "markdown",
      "source": [
        "***b) [0.5 puntos] Si A es una matriz cuadrada nxn y triangular (superior o inferior, es decir,\n",
        "con entradas nulas por debajo o por encima de la diagonal, respectivamente), ¿existe\n",
        "alguna forma de calcular de forma directa y sencilla su determinante? Justifíquese la respuesta.***\n"
      ],
      "metadata": {
        "id": "ihBbwZuN0-zX"
      },
      "id": "ihBbwZuN0-zX"
    },
    {
      "cell_type": "code",
      "source": [
        "def determinante_triangular(matriz):\n",
        "    n = len(matriz)\n",
        "    det = 1.0\n",
        "    for i in range(n):\n",
        "        det *= matriz[i][i]\n",
        "    return det"
      ],
      "metadata": {
        "id": "RRT6pXra1RNd"
      },
      "id": "RRT6pXra1RNd",
      "execution_count": 8,
      "outputs": []
    },
    {
      "cell_type": "markdown",
      "source": [
        "**APLICAMOS EL CODIGO DISEÑADO:**"
      ],
      "metadata": {
        "id": "8WYUhxIr3fxZ"
      },
      "id": "8WYUhxIr3fxZ"
    },
    {
      "cell_type": "code",
      "source": [
        "matriz_triangular_superior = [\n",
        "    [8, 5, -3],\n",
        "    [0, 6, 1],\n",
        "    [0, 0, 2]\n",
        "]\n",
        "print(\"Determinante:\", determinante_triangular(matriz_triangular_superior))  # 2*4*6 = 48"
      ],
      "metadata": {
        "colab": {
          "base_uri": "https://localhost:8080/"
        },
        "id": "TO6eu79m3gZp",
        "outputId": "e8f84b74-1a29-4a13-c5d6-25405c4f7b0f"
      },
      "id": "TO6eu79m3gZp",
      "execution_count": 10,
      "outputs": [
        {
          "output_type": "stream",
          "name": "stdout",
          "text": [
            "Determinante: 96.0\n"
          ]
        }
      ]
    },
    {
      "cell_type": "markdown",
      "source": [
        "***c) [0.5 puntos] Determínese de forma justificada c´omo alteran el determinante de una\n",
        "matriz nxn las dos operaciones elementales siguientes:***\n",
        "\n",
        "*  Intercambiar una fila (o columna) por otra fila (o columna).\n",
        "*  Sumar a una fila (o columna) otra fila (o columna) multiplicada por un escalar α"
      ],
      "metadata": {
        "id": "E2Hy_Y5F-tbT"
      },
      "id": "E2Hy_Y5F-tbT"
    },
    {
      "cell_type": "markdown",
      "source": [
        " **d) [1 punto] Investiga sobre el m´etodo de eliminación de Gauss con pivoteo parcial e\n",
        "implementalo para escalonar una matriz (es decir, convertirla en una matriz triangular\n",
        "inferior) a partir de las operaciones elementales descritas en el apartado anterior.**"
      ],
      "metadata": {
        "id": "Qa9pd0U5-tkT"
      },
      "id": "Qa9pd0U5-tkT"
    },
    {
      "cell_type": "markdown",
      "source": [
        "**e) [0.5 puntos] ¿Cómo se podría calcular el determinante de una matriz haciendo beneficio de la estrategia anterior y del efecto de aplicar las operaciones elementales pertinentes? Implementa una nueva función, determinante gauss, que calcule el determinante de una matriz utilizando eliminación gaussiana.**"
      ],
      "metadata": {
        "id": "6jaj8BSf-tsp"
      },
      "id": "6jaj8BSf-tsp"
    },
    {
      "cell_type": "markdown",
      "source": [
        "**f ) [0.5 puntos] Obtén la complejidad computacional asociada al cálculo del determinante con la definición recursiva y con el método de eliminación de Gauss con pivoteo parcial.**"
      ],
      "metadata": {
        "id": "gD1ZiMj1-twC"
      },
      "id": "gD1ZiMj1-twC"
    },
    {
      "cell_type": "markdown",
      "source": [
        " **g ) [1 punto] Utilizando numpy.random.rand, genera matrices cuadradas aleatorias de la forma\n",
        ", para\n",
        ", y confecciona una tabla comparativa del tiempo de ejecución asociado a cada una de las variantes siguientes, interpretando los resultados:**"
      ],
      "metadata": {
        "id": "wBM6ZnUd-tyx"
      },
      "id": "wBM6ZnUd-tyx"
    },
    {
      "cell_type": "markdown",
      "source": [],
      "metadata": {
        "id": "Ywsi9bAc-t18"
      },
      "id": "Ywsi9bAc-t18"
    },
    {
      "cell_type": "markdown",
      "source": [],
      "metadata": {
        "id": "hmEoRBrO-t4y"
      },
      "id": "hmEoRBrO-t4y"
    },
    {
      "cell_type": "markdown",
      "source": [],
      "metadata": {
        "id": "P52_naSw-t8y"
      },
      "id": "P52_naSw-t8y"
    },
    {
      "cell_type": "markdown",
      "source": [],
      "metadata": {
        "id": "ska38qqI-t_r"
      },
      "id": "ska38qqI-t_r"
    },
    {
      "cell_type": "markdown",
      "source": [],
      "metadata": {
        "id": "zMB-Otfo-uCy"
      },
      "id": "zMB-Otfo-uCy"
    },
    {
      "cell_type": "markdown",
      "source": [],
      "metadata": {
        "id": "Rhbiu98N-uGY"
      },
      "id": "Rhbiu98N-uGY"
    },
    {
      "cell_type": "markdown",
      "source": [],
      "metadata": {
        "id": "EaHG6diZ-uJZ"
      },
      "id": "EaHG6diZ-uJZ"
    },
    {
      "cell_type": "markdown",
      "source": [],
      "metadata": {
        "id": "uE4Kzi6l-uMz"
      },
      "id": "uE4Kzi6l-uMz"
    },
    {
      "cell_type": "markdown",
      "source": [],
      "metadata": {
        "id": "MFqA9lou-uPr"
      },
      "id": "MFqA9lou-uPr"
    }
  ],
  "metadata": {
    "kernelspec": {
      "display_name": "Python [conda env:base] *",
      "language": "python",
      "name": "conda-base-py"
    },
    "language_info": {
      "codemirror_mode": {
        "name": "ipython",
        "version": 3
      },
      "file_extension": ".py",
      "mimetype": "text/x-python",
      "name": "python",
      "nbconvert_exporter": "python",
      "pygments_lexer": "ipython3",
      "version": "3.13.5"
    },
    "colab": {
      "provenance": [],
      "include_colab_link": true
    }
  },
  "nbformat": 4,
  "nbformat_minor": 5
}